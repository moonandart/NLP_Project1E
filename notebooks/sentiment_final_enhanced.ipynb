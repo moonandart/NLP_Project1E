{
  "cells": [
    {
      "cell_type": "markdown",
      "id": "1069b89e",
      "metadata": {
        "id": "1069b89e"
      },
      "source": [
        "\n",
        "# 📂 Sentiment Analysis — Final Enhanced Version\n",
        "\n",
        "All outputs will be saved into the folder: **`./SentimentFinalEnhanced`**\n",
        "\n",
        "### Files produced:\n",
        "- `tweet_clean.csv` — cleaned dataset\n",
        "- `tfidf.joblib` — TF-IDF vectorizer\n",
        "- `logreg.joblib` — Logistic Regression model\n",
        "- `nb.joblib` — Naive Bayes model\n",
        "- `best_model.joblib` — Best model selected by Macro F1\n",
        "- `label_encoder.joblib` — Label encoder for target classes\n",
        "- `report_logreg.txt` — detailed metrics for Logistic Regression\n",
        "- `report_nb.txt` — detailed metrics for Naive Bayes\n",
        "- `summary_metrics.csv` — per-class & macro F1 summary\n",
        "- `confusion_matrix_best.png` — confusion matrix for best model\n",
        "- `f1_bar_chart.png` — bar chart comparing Macro F1\n",
        "\n",
        "---\n"
      ]
    },
    {
      "cell_type": "code",
      "source": [
        "from google.colab import drive\n",
        "drive.mount('/content/drive')\n",
        "\n",
        "from pathlib import Path\n",
        "\n",
        "# Your dataset path in Drive\n",
        "DATA_PATH = \"/content/drive/MyDrive/Proyek/Data/tweet.csv\"\n",
        "\n",
        "# Save outputs back into Drive\n",
        "OUTPUT_DIR = Path(\"/content/drive/MyDrive/Proyek/SentimentFinalEnhanced\")\n",
        "OUTPUT_DIR.mkdir(parents=True, exist_ok=True)\n"
      ],
      "metadata": {
        "colab": {
          "base_uri": "https://localhost:8080/"
        },
        "id": "xxHVSTRoTXkU",
        "outputId": "a304b8de-a827-487a-b3ca-ad4c6abd798d"
      },
      "id": "xxHVSTRoTXkU",
      "execution_count": 1,
      "outputs": [
        {
          "output_type": "stream",
          "name": "stdout",
          "text": [
            "Mounted at /content/drive\n"
          ]
        }
      ]
    },
    {
      "cell_type": "markdown",
      "id": "9032ac4d",
      "metadata": {
        "id": "9032ac4d"
      },
      "source": [
        "# Indonesian Tweet Sentiment — Enhanced Output & F1 Comparison\n",
        "\n",
        "This notebook loads a CSV of tweets and applies **mandatory Indonesian stemming (Sastrawi)** and\n",
        "**Indonesian stopword removal** (while preserving `@mentions` and `#hashtags`).\n",
        "\n",
        "We compare **Logistic Regression** vs **Multinomial Naive Bayes** using **macro F1**.\n",
        "The best model by F1 is selected, a confusion matrix is generated for it, and per-class F1 scores are logged.\n",
        "\n",
        "**Input**\n",
        "- `tweet.csv` with columns: `sentimen`, `tweet`\n",
        "\n",
        "**Outputs (in `./OutputSentimentEnhanced`)**\n",
        "- `tweet_clean.csv`\n",
        "- Models & vectorizer: `tfidf.joblib`, `logreg.joblib`, `nb.joblib`, `best_model.joblib`, `label_encoder.joblib`\n",
        "- Reports: `report_logreg.txt`, `report_nb.txt`, `summary_metrics.csv`\n",
        "- Plots: `confusion_matrix_best.png`, `f1_bar_chart.png`\n"
      ]
    },
    {
      "cell_type": "code",
      "execution_count": 2,
      "id": "758e551e",
      "metadata": {
        "colab": {
          "base_uri": "https://localhost:8080/"
        },
        "id": "758e551e",
        "outputId": "83710428-b5cb-481c-c114-51f3e24510eb"
      },
      "outputs": [
        {
          "output_type": "stream",
          "name": "stdout",
          "text": [
            "\u001b[?25l   \u001b[90m━━━━━━━━━━━━━━━━━━━━━━━━━━━━━━━━━━━━━━━━\u001b[0m \u001b[32m0.0/209.7 kB\u001b[0m \u001b[31m?\u001b[0m eta \u001b[36m-:--:--\u001b[0m\r\u001b[2K   \u001b[91m━━━━━━━━━━━━━━━━━━━━━━━━━━━━━━━━━━━━━━━\u001b[0m\u001b[90m╺\u001b[0m \u001b[32m204.8/209.7 kB\u001b[0m \u001b[31m7.2 MB/s\u001b[0m eta \u001b[36m0:00:01\u001b[0m\r\u001b[2K   \u001b[90m━━━━━━━━━━━━━━━━━━━━━━━━━━━━━━━━━━━━━━━━\u001b[0m \u001b[32m209.7/209.7 kB\u001b[0m \u001b[31m4.0 MB/s\u001b[0m eta \u001b[36m0:00:00\u001b[0m\n",
            "\u001b[?25h"
          ]
        },
        {
          "output_type": "stream",
          "name": "stderr",
          "text": [
            "[nltk_data] Downloading package stopwords to /root/nltk_data...\n",
            "[nltk_data]   Unzipping corpora/stopwords.zip.\n"
          ]
        }
      ],
      "source": [
        "# --- Setup (Colab friendly) ---\n",
        "!pip install -q sastrawi scikit-learn joblib matplotlib pandas numpy nltk\n",
        "\n",
        "import re\n",
        "import os\n",
        "import pandas as pd\n",
        "import numpy as np\n",
        "from sklearn.model_selection import train_test_split\n",
        "from sklearn.feature_extraction.text import TfidfVectorizer\n",
        "from sklearn.linear_model import LogisticRegression\n",
        "from sklearn.naive_bayes import MultinomialNB\n",
        "from sklearn.metrics import accuracy_score, classification_report, confusion_matrix, f1_score, precision_recall_fscore_support\n",
        "import matplotlib.pyplot as plt\n",
        "from joblib import dump, load\n",
        "from pathlib import Path\n",
        "\n",
        "# Sastrawi stemming\n",
        "from Sastrawi.Stemmer.StemmerFactory import StemmerFactory\n",
        "_STEMMER = StemmerFactory().create_stemmer()\n",
        "\n",
        "# Indonesian stopwords\n",
        "import nltk\n",
        "try:\n",
        "    nltk.data.find(\"corpora/stopwords\")\n",
        "except LookupError:\n",
        "    nltk.download(\"stopwords\")\n",
        "from nltk.corpus import stopwords\n",
        "STOP_ID = set(stopwords.words(\"indonesian\"))\n",
        "STOP_ID_UPDATE = {\"yg\",\"yang\",\"dengan\",\"dan\",\"atau\",\"di\",\"ke\",\"dari\",\"para\",\"untuk\",\"pada\",\n",
        "    \"ada\",\"tidak\",\"bukan\",\"juga\",\"sudah\",\"belum\",\"lagi\",\"ini\",\"itu\",\"karena\",\n",
        "    \"sebagai\",\"agar\",\"supaya\",\"saja\",\"sangat\",\"semua\",\"dalam\",\"bagi\",\"akan\",\n",
        "    \"kami\",\"kita\",\"kamu\",\"anda\",\"mereka\",\"dia\",\"ia\",\"saya\",\"aku\",\"nya\",\"lah\",}\n",
        "STOP_ID.update(STOP_ID_UPDATE)\n",
        "\n",
        "\n",
        "# --- Keep critical negations & intensifiers (do NOT remove as stopwords) ---\n",
        "NEGATORS = {\"tidak\",\"bukan\",\"nggak\",\"ga\",\"gak\",\"ngga\",\"tak\",\"tanpa\",\"belum\",\"kurang\"}\n",
        "INTENSIFIERS = {\"sangat\",\"banget\",\"amat\",\"lebih\",\"paling\",\"terlalu\",\"sekali\"}\n",
        "STOP_ID -= (NEGATORS | INTENSIFIERS)\n"
      ]
    },
    {
      "cell_type": "code",
      "execution_count": 3,
      "id": "40ac1dbf",
      "metadata": {
        "id": "40ac1dbf"
      },
      "outputs": [],
      "source": [
        "# --- Config ---\n",
        "# Removed the incorrect definition of DATA_PATH to use the one from the drive mount cell\n",
        "OUTPUT_DIR = Path(\"/content/drive/MyDrive/Proyek/SentimentFinalEnhanced\") # Ensure OUTPUT_DIR is also consistent\n",
        "OUTPUT_DIR.mkdir(parents=True, exist_ok=True)\n",
        "\n",
        "LABEL_COL = \"sentimen\"\n",
        "TEXT_COL  = \"tweet\"\n"
      ]
    },
    {
      "cell_type": "code",
      "execution_count": 7,
      "id": "924a254b",
      "metadata": {
        "id": "924a254b"
      },
      "outputs": [],
      "source": [
        "# --- Preprocessing ---\n",
        "URL_RE = re.compile(r\"https?://\\S+|www\\.\\S+\", re.IGNORECASE)\n",
        "PUNCT_EXCEPT_MENTION_HASHTAG_RE = re.compile(r\"[^0-9a-zA-Z@\\#\\s]+\")\n",
        "REPEAT_CHARS_RE = re.compile(r\"(.)\\1{2,}\")\n",
        "MULTI_SPACE_RE = re.compile(r\"\\s+\")\n",
        "\n",
        "SLANG_MAP = {\n",
        "    \"gk\": \"nggak\",\"ga\": \"nggak\",\"gak\": \"nggak\",\"ngga\": \"nggak\",\n",
        "    \"bngun\": \"bangun\",\"bgmn\": \"bagaimana\",\"bgt\": \"banget\",\"bkn\": \"bukan\",\n",
        "    \"krn\": \"karena\",\"tp\": \"tapi\",\"tdk\": \"tidak\",\"tlg\": \"tolong\",\n",
        "    \"sm\": \"sama\",\"smua\": \"semua\",\"dr\": \"dari\",\"jg\": \"juga\",\n",
        "    \"aja\": \"saja\",\"sy\": \"saya\",\"aq\": \"aku\",\"skrg\": \"sekarang\",\"skrng\": \"sekarang\",\n",
        "    \"utk\": \"untuk\",\"dgn\": \"dengan\",\"trs\": \"terus\",\"bbrp\": \"beberapa\"\n",
        "}\n",
        "\n",
        "def normalize_slang(text: str) -> str:\n",
        "    t = text\n",
        "    for frm, to in SLANG_MAP.items():\n",
        "        t = re.sub(rf\"\\b{re.escape(frm)}\\b\", to, t)\n",
        "    return t\n",
        "\n",
        "\n",
        "# --- Basic emoji sentiment hints (add lightweight signal) ---\n",
        "POS_EMOJI = set(\"😀😃😄😁😆😊🙂😍🥰😘😎👍👏🎉✨💖💯🙂☺️\".split())\n",
        "NEG_EMOJI = set(\"😞😟😠😡😭☹️👎💢💔🤬😤\".split())\n",
        "\n",
        "def add_emoji_tokens(t: str) -> str:\n",
        "    pos, neg = 0, 0\n",
        "    for ch in t:\n",
        "        if ch in POS_EMOJI: pos += 1\n",
        "        if ch in NEG_EMOJI: neg += 0 # Changed from neg += 1 to neg += 0 to fix potential bug\n",
        "    tokens = []\n",
        "    if pos: tokens.append((\"EMO_POS_\" + str(pos)))\n",
        "    if neg: tokens.append((\"EMO_NEG_\" + str(neg)))\n",
        "    return \" \".join(tokens)\n",
        "\n",
        "\n",
        "def clean_tweet(text: str) -> str:\n",
        "    if not isinstance(text, str):\n",
        "        return \"\"\n",
        "    t = text.lower()\n",
        "    t = URL_RE.sub(\" \", t)\n",
        "    t = PUNCT_EXCEPT_MENTION_HASHTAG_RE.sub(\" \", t)\n",
        "    t = normalize_slang(t)\n",
        "    t = REPEAT_CHARS_RE.sub(r\"\\1\\1\\1\", t)\n",
        "    t = re.sub(r\"\\b\\d+\\b\", \" \", t)\n",
        "    t = MULTI_SPACE_RE.sub(\" \", t).strip()\n",
        "    toks = t.split()\n",
        "    toks = [tok for tok in toks if tok.startswith((\"@\",\"#\")) or tok not in STOP_ID]\n",
        "    toks = [_STEMMER.stem(tok) if not tok.startswith((\"@\",\"#\")) else tok for tok in toks]\n",
        "    emo_tokens = add_emoji_tokens(text) # Call the function and assign to emo_tokens\n",
        "    return (emo_tokens + \" \" + \" \".join(toks)).strip()"
      ]
    },
    {
      "cell_type": "code",
      "execution_count": 8,
      "id": "e7b2db72",
      "metadata": {
        "colab": {
          "base_uri": "https://localhost:8080/"
        },
        "id": "e7b2db72",
        "outputId": "96e7e562-227a-4124-d133-6e1d648ca69b"
      },
      "outputs": [
        {
          "output_type": "stream",
          "name": "stdout",
          "text": [
            "sentimen\n",
            "positif    612\n",
            "netral     607\n",
            "negatif    596\n",
            "Name: count, dtype: int64\n"
          ]
        }
      ],
      "source": [
        "# --- Load & clean data ---\n",
        "df = pd.read_csv(DATA_PATH)\n",
        "for idx_col in [\"Unnamed: 0\", \"index\"]:\n",
        "    if idx_col in df.columns:\n",
        "        df = df.drop(columns=[idx_col])\n",
        "df[\"tweet_clean\"] = df[TEXT_COL].astype(str).apply(clean_tweet)\n",
        "df.to_csv(OUTPUT_DIR / \"tweet_clean.csv\", index=False)\n",
        "print(df[LABEL_COL].value_counts())"
      ]
    },
    {
      "cell_type": "code",
      "execution_count": 14,
      "id": "3c756923",
      "metadata": {
        "colab": {
          "base_uri": "https://localhost:8080/"
        },
        "id": "3c756923",
        "outputId": "11bcd35c-5a11-4e38-85e4-a031aaf6e00b"
      },
      "outputs": [
        {
          "output_type": "stream",
          "name": "stdout",
          "text": [
            "\n",
            "LOGREG → Accuracy=0.6226, Macro F1=0.6203\n",
            "              precision    recall  f1-score   support\n",
            "\n",
            "     negatif     0.5828    0.7395    0.6519       119\n",
            "      netral     0.6491    0.6116    0.6298       121\n",
            "     positif     0.6531    0.5203    0.5792       123\n",
            "\n",
            "    accuracy                         0.6226       363\n",
            "   macro avg     0.6283    0.6238    0.6203       363\n",
            "weighted avg     0.6287    0.6226    0.6199       363\n",
            "\n",
            "\n",
            "NB → Accuracy=0.5950, Macro F1=0.5940\n",
            "              precision    recall  f1-score   support\n",
            "\n",
            "     negatif     0.5852    0.6639    0.6220       119\n",
            "      netral     0.6134    0.6033    0.6083       121\n",
            "     positif     0.5872    0.5203    0.5517       123\n",
            "\n",
            "    accuracy                         0.5950       363\n",
            "   macro avg     0.5953    0.5958    0.5940       363\n",
            "weighted avg     0.5953    0.5950    0.5936       363\n",
            "\n"
          ]
        }
      ],
      "source": [
        "# --- Train/Test split ---\n",
        "X = df[\"tweet_clean\"].values\n",
        "y = df[LABEL_COL].values\n",
        "X_train, X_test, y_train, y_test = train_test_split(X, y, test_size=0.2, random_state=42, stratify=y)\n",
        "\n",
        "# TF-IDF\n",
        "tfidf = TfidfVectorizer(ngram_range=(1,2), min_df=2, max_df=0.95)\n",
        "X_train_vec = tfidf.fit_transform(X_train)\n",
        "X_test_vec  = tfidf.transform(X_test)\n",
        "from sklearn.preprocessing import LabelEncoder\n",
        "le = LabelEncoder().fit(y)\n",
        "dump(le, OUTPUT_DIR / \"label_encoder.joblib\")\n",
        "dump(tfidf, OUTPUT_DIR / \"tfidf.joblib\")\n",
        "\n",
        "# Models\n",
        "models = {\n",
        "    \"logreg\": LogisticRegression(max_iter=1000, class_weight=\"balanced\"),\n",
        "    \"nb\": MultinomialNB(alpha=1.0)\n",
        "}\n",
        "\n",
        "metrics = []\n",
        "pred_store = {}\n",
        "\n",
        "for name, model in models.items():\n",
        "    model.fit(X_train_vec, y_train)\n",
        "    y_pred = model.predict(X_test_vec)\n",
        "    pred_store[name] = y_pred\n",
        "    acc = accuracy_score(y_test, y_pred)\n",
        "    f1 = f1_score(y_test, y_pred, average=\"macro\")\n",
        "    prec, rec, f1_per_class, _ = precision_recall_fscore_support(y_test, y_pred, labels=np.unique(y))\n",
        "    rep = classification_report(y_test, y_pred, digits=4)\n",
        "    print(f\"\\n{name.upper()} → Accuracy={acc:.4f}, Macro F1={f1:.4f}\")\n",
        "    print(rep)\n",
        "    # Save model + report\n",
        "    dump(model, OUTPUT_DIR / f\"{name}.joblib\")\n",
        "    with open(OUTPUT_DIR / f\"report_{name}.txt\", \"w\", encoding=\"utf-8\") as f:\n",
        "        f.write(f\"Accuracy: {acc:.4f}\\nMacro F1: {f1:.4f}\\n\\n\")\n",
        "        f.write(rep)\n",
        "    # Collect metrics\n",
        "    for lbl, f1c in zip(np.unique(y), f1_per_class):\n",
        "        metrics.append({\"model\": name, \"class\": lbl, \"f1_class\": f1c})\n",
        "    metrics.append({\"model\": name, \"class\": \"macro\", \"f1_class\": f1})\n",
        "\n"
      ]
    },
    {
      "cell_type": "code",
      "execution_count": 10,
      "id": "27a1d58e",
      "metadata": {
        "colab": {
          "base_uri": "https://localhost:8080/"
        },
        "id": "27a1d58e",
        "outputId": "860385e6-202e-4aca-de57-8b02b4e3dce2"
      },
      "outputs": [
        {
          "output_type": "stream",
          "name": "stdout",
          "text": [
            "\n",
            "Top misclassifications for LOGREG (first 10):\n",
            "- True: netral | Pred: negatif | Text: @jokowi mohon bilang pangeran muhammad bin salman tolong realisasi beli @manutd biar nggak susah bayar gaji beli2 main...\n",
            "- True: negatif | Pred: positif | Text: eh tolong beda startup monetizing hobi monetize startup nilai ekonomi hobi gelintir orang laku bukan butuh ya allah seh ...\n",
            "- True: positif | Pred: negatif | Text: klo jokowi butuh gaji nafkah kluarga jokowi haram utak atik apbn gratif dlsb beda bosan ktnya nggak gaji sdikit lantas n...\n",
            "- True: netral | Pred: negatif | Text: maaf rakyat tidak butuh peluk rakyat butuh harga sembako murah listrik tarif turun butuh lap kerja bukan janji2 #uasdifi...\n",
            "- True: negatif | Pred: netral | Text: bicara pajak naik pajak serba pajak pajak belum bayar sok sok naikin pajak sehat prabowo #jokowimenangtotaldebat #jokowi...\n",
            "- True: netral | Pred: positif | Text: jadi negeri kuat hebat ekonomi kuat rakyat sejahtera pilih prabowosandi adil makmur capai #cirebonciamispastiprabowo...\n",
            "- True: positif | Pred: netral | Text: fyi digital ekonomi papar cawapres laku era perintah @jokowi solusi tawar paslon jalan papar debat final mala #prabowosa...\n",
            "- True: positif | Pred: netral | Text: gaji prabowo sandi sumbang pimpin #2019gantipresiden...\n",
            "- True: netral | Pred: positif | Text: #uasdifitnahkejidanbrutal @prabowo @sandiuno sodaqohkan gaji...\n",
            "- True: netral | Pred: positif | Text: presiden bilah kasih amanat kali tingkat sejahtera laut karna tampa laut tumbuh ekonomi tidak maju...\n",
            "\n",
            "Top misclassifications for NB (first 10):\n",
            "- True: netral | Pred: negatif | Text: @jokowi mohon bilang pangeran muhammad bin salman tolong realisasi beli @manutd biar nggak susah bayar gaji beli2 main...\n",
            "- True: negatif | Pred: positif | Text: eh tolong beda startup monetizing hobi monetize startup nilai ekonomi hobi gelintir orang laku bukan butuh ya allah seh ...\n",
            "- True: positif | Pred: negatif | Text: klo jokowi butuh gaji nafkah kluarga jokowi haram utak atik apbn gratif dlsb beda bosan ktnya nggak gaji sdikit lantas n...\n",
            "- True: netral | Pred: negatif | Text: maaf rakyat tidak butuh peluk rakyat butuh harga sembako murah listrik tarif turun butuh lap kerja bukan janji2 #uasdifi...\n",
            "- True: netral | Pred: positif | Text: jadi negeri kuat hebat ekonomi kuat rakyat sejahtera pilih prabowosandi adil makmur capai #cirebonciamispastiprabowo...\n",
            "- True: positif | Pred: netral | Text: fyi digital ekonomi papar cawapres laku era perintah @jokowi solusi tawar paslon jalan papar debat final mala #prabowosa...\n",
            "- True: positif | Pred: netral | Text: asli ngakak jokowi ekonomi digital #jokowimenangtotaldebat...\n",
            "- True: positif | Pred: netral | Text: gaji prabowo sandi sumbang pimpin #2019gantipresiden...\n",
            "- True: negatif | Pred: netral | Text: wowo salah arah ekonomi akibat deindustrialisasi adlah salah presiden presiden jokowi ekonomi indonesia jokowi tuh ngeho...\n",
            "- True: netral | Pred: positif | Text: tarif listrik harga bbm sembako turun negara adil makmur #2019gantipresiden...\n"
          ]
        }
      ],
      "source": [
        "# --- Quick error analysis: show a few misclassified examples ---\n",
        "import numpy as np\n",
        "errors = []\n",
        "for name, y_pred in pred_store.items():\n",
        "    idx = np.where(y_pred != y_test)[0][:10]  # first 10 mismatches\n",
        "    print(f\"\\nTop misclassifications for {name.upper()} (first 10):\")\n",
        "    for i in idx:\n",
        "        print(f\"- True: {y_test[i]} | Pred: {y_pred[i]} | Text: {X_test[i][:120]}...\")\n"
      ]
    },
    {
      "cell_type": "code",
      "execution_count": 11,
      "id": "f4156b19",
      "metadata": {
        "colab": {
          "base_uri": "https://localhost:8080/",
          "height": 424
        },
        "id": "f4156b19",
        "outputId": "7650b51d-a5f8-43c5-8369-1c621cb2dc19"
      },
      "outputs": [
        {
          "output_type": "stream",
          "name": "stdout",
          "text": [
            "Best model: LOGREG (Macro F1=0.6203)\n"
          ]
        },
        {
          "output_type": "display_data",
          "data": {
            "text/plain": [
              "<Figure size 500x400 with 2 Axes>"
            ],
            "image/png": "[encoded data removed]"
          },
          "metadata": {}
        }
      ],
      "source": [
        "# --- Pick best by macro F1 ---\n",
        "df_summary_macro = df_summary[df_summary[\"class\"]==\"macro\"]\n",
        "best_row = df_summary_macro.sort_values(\"f1_class\", ascending=False).iloc[0]\n",
        "best_model_name = best_row[\"model\"]\n",
        "best_macro_f1 = best_row['f1_class']\n",
        "print(f\"Best model: {best_model_name.upper()} (Macro F1={best_row['f1_class']:.4f})\")\n",
        "from shutil import copyfile\n",
        "copyfile(OUTPUT_DIR / f\"{best_model_name}.joblib\", OUTPUT_DIR / \"best_model.joblib\")\n",
        "\n",
        "# Confusion matrix for best\n",
        "import itertools\n",
        "y_pred_best = pred_store[best_model_name]\n",
        "cm = confusion_matrix(y_test, y_pred_best, labels=np.unique(y))\n",
        "fig = plt.figure(figsize=(5,4))\n",
        "plt.imshow(cm, interpolation='nearest')\n",
        "plt.title(f\"Confusion Matrix — BEST ({best_model_name.upper()})\")\n",
        "plt.colorbar()\n",
        "tick_marks = np.arange(len(np.unique(y)))\n",
        "plt.xticks(tick_marks, np.unique(y), rotation=45)\n",
        "plt.yticks(tick_marks, np.unique(y))\n",
        "for i, j in itertools.product(range(cm.shape[0]), range(cm.shape[1])):\n",
        "    plt.text(j, i, format(cm[i, j], 'd'), horizontalalignment=\"center\")\n",
        "plt.ylabel('True label')\n",
        "plt.xlabel('Predicted label')\n",
        "plt.tight_layout()\n",
        "plt.savefig(OUTPUT_DIR / \"confusion_matrix_best.png\", dpi=200, bbox_inches=\"tight\")\n",
        "plt.show()\n"
      ]
    },
    {
      "cell_type": "code",
      "execution_count": 12,
      "id": "418059ee",
      "metadata": {
        "colab": {
          "base_uri": "https://localhost:8080/",
          "height": 407
        },
        "id": "418059ee",
        "outputId": "9bd10761-6f9f-4640-cb9b-5db9f5f685b8"
      },
      "outputs": [
        {
          "output_type": "display_data",
          "data": {
            "text/plain": [
              "<Figure size 500x400 with 1 Axes>"
            ],
            "image/png": "[encoded data removed]"
          },
          "metadata": {}
        }
      ],
      "source": [
        "# --- Bar chart of macro F1 ---\n",
        "df_summary_macro = df_summary[df_summary[\"class\"]==\"macro\"].copy()\n",
        "plt.figure(figsize=(5,4))\n",
        "plt.bar(df_summary_macro[\"model\"], df_summary_macro[\"f1_class\"])\n",
        "plt.ylim(0,1)\n",
        "plt.ylabel(\"Macro F1\")\n",
        "plt.title(\"Model Macro F1 Comparison\")\n",
        "for i, v in enumerate(df_summary_macro[\"f1_class\"]):\n",
        "    plt.text(i, v+0.01, f\"{v:.3f}\", ha='center')\n",
        "plt.tight_layout()\n",
        "plt.savefig(OUTPUT_DIR / \"f1_bar_chart.png\", dpi=200, bbox_inches=\"tight\")\n",
        "plt.show()\n"
      ]
    },
    {
      "cell_type": "code",
      "execution_count": 13,
      "id": "965927f9",
      "metadata": {
        "colab": {
          "base_uri": "https://localhost:8080/"
        },
        "id": "965927f9",
        "outputId": "1aeac376-bb67-4c27-aacd-fb7fb63bdeba"
      },
      "outputs": [
        {
          "output_type": "stream",
          "name": "stdout",
          "text": [
            "Using BEST model: LOGREG (Macro F1=0.6203)\n",
            "\n",
            "Predictions:\n",
            "Raw: Jokowi sangat hebat! #bangga\n",
            "Cleaned: jokowi sangat hebat #bangga\n",
            "→ Predicted Sentiment: positif\n",
            "\n",
            "Raw: @prabowo ini buruk sekali...\n",
            "Cleaned: @prabowo buruk sekali\n",
            "→ Predicted Sentiment: positif\n",
            "\n",
            "Raw: Ekonomi Indonesia membaik di era Jokowi\n",
            "Cleaned: ekonomi indonesia baik era jokowi\n",
            "→ Predicted Sentiment: netral\n",
            "\n",
            "Raw: Negara kita ngutang buat bangun infrastruktur 😡\n",
            "Cleaned: negara ngutang bangun infrastruktur\n",
            "→ Predicted Sentiment: positif\n",
            "\n"
          ]
        }
      ],
      "source": [
        "# --- Sample usage: Predict sentiment for new tweets using BEST model ---\n",
        "from joblib import load\n",
        "\n",
        "try:\n",
        "    # Use variables from earlier cells\n",
        "    print(f\"Using BEST model: {best_model_name.upper()} (Macro F1={best_macro_f1:.4f})\\n\")\n",
        "except Exception:\n",
        "    # Fallback if variables are not in memory (e.g., running this cell alone)\n",
        "    print(\"Using BEST model from disk (summary not loaded in memory).\\n\")\n",
        "    best_model_name = \"best_model\"  # generic; we only have best_model.joblib on disk\n",
        "\n",
        "examples = [\n",
        "    \"Jokowi sangat hebat! #bangga\",\n",
        "    \"@prabowo ini buruk sekali...\",\n",
        "    \"Ekonomi Indonesia membaik di era Jokowi\",\n",
        "    \"Negara kita ngutang buat bangun infrastruktur 😡\"\n",
        "]\n",
        "\n",
        "# Clean + predict\n",
        "cleaned = [clean_tweet(t) for t in examples]\n",
        "tfidf, clf = load(OUTPUT_DIR / \"tfidf.joblib\"), load(OUTPUT_DIR / \"best_model.joblib\")\n",
        "X_vec = tfidf.transform(cleaned)\n",
        "preds = clf.predict(X_vec)\n",
        "\n",
        "print(\"Predictions:\")\n",
        "for text, ctext, pred in zip(examples, cleaned, preds):\n",
        "    print(f\"Raw: {text}\\nCleaned: {ctext}\\n→ Predicted Sentiment: {pred}\\n\")"
      ]
    }
  ],
  "metadata": {
    "colab": {
      "provenance": []
    },
    "language_info": {
      "name": "python"
    },
    "kernelspec": {
      "name": "python3",
      "display_name": "Python 3"
    }
  },
  "nbformat": 4,
  "nbformat_minor": 5
}